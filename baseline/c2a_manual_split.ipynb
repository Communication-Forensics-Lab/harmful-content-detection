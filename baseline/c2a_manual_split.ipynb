{
 "cells": [
  {
   "metadata": {},
   "cell_type": "markdown",
   "source": "# This is the jupyter notebook for the baseline system of \"call to action\" detection model",
   "id": "8a77807f92f26ee"
  },
  {
   "metadata": {},
   "cell_type": "markdown",
   "source": [
    "## 1. Data balancing\n",
    "\n",
    "First of all, we want to preprocess the data we are working with."
   ],
   "id": "e26c2c41fb8b313f"
  },
  {
   "metadata": {
    "ExecuteTime": {
     "end_time": "2024-12-20T10:52:28.464186Z",
     "start_time": "2024-12-20T10:52:28.366841Z"
    }
   },
   "cell_type": "code",
   "source": [
    "import pandas as pd\n",
    "\n",
    "filename = \"data/c2a.csv\"\n",
    "df = pd.read_csv(filename, sep=';')\n",
    "df.head()"
   ],
   "id": "1260ccbea62b3f19",
   "outputs": [
    {
     "data": {
      "text/plain": [
       "                 id                                        description    C2A\n",
       "0  1064396393598783  Oliver, ich guck doch schon mindestens einmal ...  False\n",
       "1  1069077806463975           Schlafen Sie schon oder reden sie noch ?  False\n",
       "2  1065824423455980  Ich bin auf einen hoffentlich ehrlichen abschl...  False\n",
       "3  1069073689797720      Und sowas ist Ministerpräsident. Unglaublich.  False\n",
       "4  1065801100124979        https://www.youtube.com/watch?v=134uhbtYBM4  False"
      ],
      "text/html": [
       "<div>\n",
       "<style scoped>\n",
       "    .dataframe tbody tr th:only-of-type {\n",
       "        vertical-align: middle;\n",
       "    }\n",
       "\n",
       "    .dataframe tbody tr th {\n",
       "        vertical-align: top;\n",
       "    }\n",
       "\n",
       "    .dataframe thead th {\n",
       "        text-align: right;\n",
       "    }\n",
       "</style>\n",
       "<table border=\"1\" class=\"dataframe\">\n",
       "  <thead>\n",
       "    <tr style=\"text-align: right;\">\n",
       "      <th></th>\n",
       "      <th>id</th>\n",
       "      <th>description</th>\n",
       "      <th>C2A</th>\n",
       "    </tr>\n",
       "  </thead>\n",
       "  <tbody>\n",
       "    <tr>\n",
       "      <th>0</th>\n",
       "      <td>1064396393598783</td>\n",
       "      <td>Oliver, ich guck doch schon mindestens einmal ...</td>\n",
       "      <td>False</td>\n",
       "    </tr>\n",
       "    <tr>\n",
       "      <th>1</th>\n",
       "      <td>1069077806463975</td>\n",
       "      <td>Schlafen Sie schon oder reden sie noch ?</td>\n",
       "      <td>False</td>\n",
       "    </tr>\n",
       "    <tr>\n",
       "      <th>2</th>\n",
       "      <td>1065824423455980</td>\n",
       "      <td>Ich bin auf einen hoffentlich ehrlichen abschl...</td>\n",
       "      <td>False</td>\n",
       "    </tr>\n",
       "    <tr>\n",
       "      <th>3</th>\n",
       "      <td>1069073689797720</td>\n",
       "      <td>Und sowas ist Ministerpräsident. Unglaublich.</td>\n",
       "      <td>False</td>\n",
       "    </tr>\n",
       "    <tr>\n",
       "      <th>4</th>\n",
       "      <td>1065801100124979</td>\n",
       "      <td>https://www.youtube.com/watch?v=134uhbtYBM4</td>\n",
       "      <td>False</td>\n",
       "    </tr>\n",
       "  </tbody>\n",
       "</table>\n",
       "</div>"
      ]
     },
     "execution_count": 2,
     "metadata": {},
     "output_type": "execute_result"
    }
   ],
   "execution_count": 2
  },
  {
   "metadata": {},
   "cell_type": "markdown",
   "source": "Our data is imbalanced, we will perform undersampling",
   "id": "ccc3933f0cb6084b"
  },
  {
   "metadata": {
    "ExecuteTime": {
     "end_time": "2024-12-20T10:52:30.128838Z",
     "start_time": "2024-12-20T10:52:29.455244Z"
    }
   },
   "cell_type": "code",
   "source": [
    "from sklearn.utils import resample\n",
    "\n",
    "minority_class = df[df['C2A'] == True]\n",
    "majority_class = df[df['C2A'] == False]\n",
    "\n",
    "majority_undersampled = resample(majority_class, replace=False, n_samples=len(minority_class), random_state=42)\n",
    "df = pd.concat([minority_class, majority_undersampled])\n",
    "\n",
    "print(df['C2A'].value_counts())"
   ],
   "id": "b365a5592968cffc",
   "outputs": [
    {
     "name": "stdout",
     "output_type": "stream",
     "text": [
      "C2A\n",
      "True     952\n",
      "False    952\n",
      "Name: count, dtype: int64\n"
     ]
    }
   ],
   "execution_count": 3
  },
  {
   "metadata": {},
   "cell_type": "markdown",
   "source": [
    "## 2. Data preprocessing\n",
    "Once our data is balanced, we can preprocess it.\n",
    "\n",
    "- First we will clean it"
   ],
   "id": "50047edb59efa3fb"
  },
  {
   "metadata": {
    "ExecuteTime": {
     "end_time": "2024-12-20T10:52:31.133023Z",
     "start_time": "2024-12-20T10:52:31.116525Z"
    }
   },
   "cell_type": "code",
   "source": [
    "import re\n",
    "\n",
    "\n",
    "def clean_text(text):\n",
    "    url_pattern = r'https?://\\S+|www\\.\\S+'\n",
    "    mention_pattern = r'@\\w+'\n",
    "    hashtag_pattern = r'#\\w+'\n",
    "    combined_pattern = f'({url_pattern})|({mention_pattern})|({hashtag_pattern})'\n",
    "\n",
    "    cleaned_text = re.sub(combined_pattern, '', text)\n",
    "    return cleaned_text\n",
    "\n",
    "\n",
    "df['description'] = df['description'].apply(clean_text)\n",
    "print(df.head())"
   ],
   "id": "5184ebdd6d89db16",
   "outputs": [
    {
     "name": "stdout",
     "output_type": "stream",
     "text": [
      "                   id                                        description   C2A\n",
      "29   1069125156459240  Oh, Ihr Schwaben habt auch ein Volltrottel als...  True\n",
      "35   1064470026924753  JEDE STIMME ZÄHLT! Die SVP-Initiative könnte a...  True\n",
      "76   1069142563124166  Schaut hin, ihr jungen Menschen, diese \"alte H...  True\n",
      "166  1066221073416315      Sehrt gut. Dan bitte anfangen mit Mein Kampf.  True\n",
      "217  1064431840261905  immer weiter so bis zum bitteren ende nicht au...  True\n"
     ]
    }
   ],
   "execution_count": 4
  },
  {
   "metadata": {},
   "cell_type": "markdown",
   "source": "- Secondly, we will extract lemmas from text and the tokenize it.",
   "id": "d1358cc8189a8bbb"
  },
  {
   "metadata": {
    "ExecuteTime": {
     "end_time": "2024-12-20T10:52:44.364061Z",
     "start_time": "2024-12-20T10:52:32.207075Z"
    }
   },
   "cell_type": "code",
   "source": [
    "import spacy\n",
    "\n",
    "nlp = spacy.load('de_core_news_md')\n",
    "\n",
    "\n",
    "def text_lemmatize_tokenize(text):\n",
    "    doc = nlp(text)\n",
    "    tokens = [token.lemma_.lower() for token in doc if not token.is_punct]\n",
    "    return ' '.join(tokens)\n",
    "\n",
    "\n",
    "df['description'] = df['description'].apply(text_lemmatize_tokenize)\n",
    "print(df.head())"
   ],
   "id": "df633cd8baaeec79",
   "outputs": [
    {
     "name": "stdout",
     "output_type": "stream",
     "text": [
      "                   id                                        description   C2A\n",
      "29   1069125156459240  oh ihr schwaben haben auch ein volltrottel als...  True\n",
      "35   1064470026924753  jede stimme zählt der svp-initiative können al...  True\n",
      "76   1069142563124166  schauen hin ihr jung mensch dieser alt herrenr...  True\n",
      "166  1066221073416315        sehrt gut dan bitte anfangen mit mein kampf  True\n",
      "217  1064431840261905  immer weiter so bis zu bitter ende nicht aufgeben  True\n"
     ]
    }
   ],
   "execution_count": 5
  },
  {
   "metadata": {},
   "cell_type": "markdown",
   "source": "- Next we will add some features. In this case we will add polarity using the text blob library.",
   "id": "86fab82d4a10b5ac"
  },
  {
   "metadata": {
    "ExecuteTime": {
     "end_time": "2024-12-20T10:54:02.365326Z",
     "start_time": "2024-12-20T10:52:48.132546Z"
    }
   },
   "cell_type": "code",
   "source": [
    "from textblob_de import TextBlobDE\n",
    "\n",
    "\n",
    "def add_polarity(df):\n",
    "    def calculate_sentiment_features(text):\n",
    "        blob = TextBlobDE(text)\n",
    "        return blob.sentiment.polarity\n",
    "\n",
    "    df[['polarity']] = df['description'].apply(\n",
    "        lambda x: pd.Series(calculate_sentiment_features(x))\n",
    "    )\n",
    "\n",
    "    return df\n",
    "\n",
    "\n",
    "df = add_polarity(df)\n",
    "print(df.head())"
   ],
   "id": "73d101a037787ce6",
   "outputs": [
    {
     "name": "stdout",
     "output_type": "stream",
     "text": [
      "                   id                                        description  \\\n",
      "29   1069125156459240  oh ihr schwaben haben auch ein volltrottel als...   \n",
      "35   1064470026924753  jede stimme zählt der svp-initiative können al...   \n",
      "76   1069142563124166  schauen hin ihr jung mensch dieser alt herrenr...   \n",
      "166  1066221073416315        sehrt gut dan bitte anfangen mit mein kampf   \n",
      "217  1064431840261905  immer weiter so bis zu bitter ende nicht aufgeben   \n",
      "\n",
      "      C2A  polarity  \n",
      "29   True      1.00  \n",
      "35   True      0.45  \n",
      "76   True      0.70  \n",
      "166  True      1.00  \n",
      "217  True      0.35  \n"
     ]
    }
   ],
   "execution_count": 6
  },
  {
   "metadata": {},
   "cell_type": "markdown",
   "source": "- After this step we will add some sentence transformers and add sentence embeddings.",
   "id": "25de6f5dfd1c9bb0"
  },
  {
   "metadata": {
    "ExecuteTime": {
     "end_time": "2024-12-20T10:54:57.738382Z",
     "start_time": "2024-12-20T10:54:09.133434Z"
    }
   },
   "cell_type": "code",
   "source": [
    "from sentence_transformers import SentenceTransformer\n",
    "\n",
    "\n",
    "def add_semantic_features(df):\n",
    "    sentence_model = SentenceTransformer('distiluse-base-multilingual-cased-v2')\n",
    "    texts = df['description'].astype(str).values.tolist()\n",
    "\n",
    "    embeddings = sentence_model.encode(texts, show_progressbar=True)\n",
    "    embeddings_df = pd.DataFrame(embeddings, columns=[f'embedding_{i}' for i in range(embeddings.shape[1])])\n",
    "\n",
    "    df = pd.concat([df.reset_index(drop=True), embeddings_df.reset_index(drop=True)], axis=1)\n",
    "    return df\n",
    "\n",
    "\n",
    "df = add_semantic_features(df)\n",
    "print(df.head())"
   ],
   "id": "7496b564bcbebfe9",
   "outputs": [
    {
     "name": "stdout",
     "output_type": "stream",
     "text": [
      "                 id                                        description   C2A  \\\n",
      "0  1069125156459240  oh ihr schwaben haben auch ein volltrottel als...  True   \n",
      "1  1064470026924753  jede stimme zählt der svp-initiative können al...  True   \n",
      "2  1069142563124166  schauen hin ihr jung mensch dieser alt herrenr...  True   \n",
      "3  1066221073416315        sehrt gut dan bitte anfangen mit mein kampf  True   \n",
      "4  1064431840261905  immer weiter so bis zu bitter ende nicht aufgeben  True   \n",
      "\n",
      "   polarity  embedding_0  embedding_1  embedding_2  embedding_3  embedding_4  \\\n",
      "0      1.00     0.025917     0.020020     0.014230    -0.018579    -0.005564   \n",
      "1      0.45     0.039895     0.040401    -0.051886    -0.019407     0.100345   \n",
      "2      0.70    -0.019509    -0.003412    -0.009561    -0.003204     0.076088   \n",
      "3      1.00     0.015723    -0.006647     0.014712    -0.014438     0.002726   \n",
      "4      0.35    -0.016261    -0.027691     0.032199    -0.013078     0.053044   \n",
      "\n",
      "   embedding_5  ...  embedding_502  embedding_503  embedding_504  \\\n",
      "0    -0.017050  ...      -0.045197      -0.041368       0.018970   \n",
      "1    -0.011686  ...       0.008479      -0.025073       0.008995   \n",
      "2     0.020218  ...      -0.070743       0.014261      -0.017840   \n",
      "3    -0.004604  ...       0.114405      -0.003572       0.022070   \n",
      "4    -0.009678  ...      -0.001622      -0.015784       0.019501   \n",
      "\n",
      "   embedding_505  embedding_506  embedding_507  embedding_508  embedding_509  \\\n",
      "0      -0.031391      -0.088032      -0.017815       0.003573      -0.004784   \n",
      "1       0.044520      -0.018230      -0.024325       0.006475      -0.041781   \n",
      "2       0.041605      -0.021470       0.075628       0.012700      -0.003394   \n",
      "3      -0.020533      -0.012209      -0.049444      -0.012704      -0.002610   \n",
      "4      -0.013894      -0.001333       0.011309      -0.025260      -0.018518   \n",
      "\n",
      "   embedding_510  embedding_511  \n",
      "0       0.003871       0.008694  \n",
      "1      -0.053230       0.018769  \n",
      "2      -0.007658       0.014349  \n",
      "3      -0.031548      -0.026666  \n",
      "4       0.000077      -0.016731  \n",
      "\n",
      "[5 rows x 516 columns]\n"
     ]
    }
   ],
   "execution_count": 7
  },
  {
   "metadata": {},
   "cell_type": "markdown",
   "source": "After we finished with preprocessing steps, we will split our dataset randomly into training and testing set. For testing we will randomly take out 50 True and 50 False samples.",
   "id": "60368992cd0e42ed"
  },
  {
   "metadata": {
    "ExecuteTime": {
     "end_time": "2024-12-20T10:55:01.925800Z",
     "start_time": "2024-12-20T10:55:01.863832Z"
    }
   },
   "cell_type": "code",
   "source": [
    "sampled_minority = resample(\n",
    "    df[df['C2A'] == True], replace=False, n_samples=50, random_state=42\n",
    ")\n",
    "sampled_majority = resample(\n",
    "    df[df['C2A'] == False], replace=False, n_samples=50, random_state=42\n",
    ")\n",
    "\n",
    "test_df = pd.concat([sampled_minority, sampled_majority])\n",
    "train_df = df.drop(test_df.index)"
   ],
   "id": "8cf72c9964305467",
   "outputs": [],
   "execution_count": 8
  },
  {
   "metadata": {},
   "cell_type": "markdown",
   "source": "Now we can train our model on our training data.",
   "id": "87413ced6ae996ba"
  },
  {
   "metadata": {
    "ExecuteTime": {
     "end_time": "2024-12-20T10:56:56.575725Z",
     "start_time": "2024-12-20T10:55:05.910225Z"
    }
   },
   "cell_type": "code",
   "source": [
    "from sklearn.model_selection import cross_val_predict\n",
    "from sklearn.metrics import accuracy_score, classification_report\n",
    "from sklearn.ensemble import GradientBoostingClassifier\n",
    "\n",
    "X = train_df.drop(columns=['id', 'description', 'C2A'])\n",
    "y = train_df['C2A']\n",
    "\n",
    "model = GradientBoostingClassifier(random_state=42)\n",
    "model.fit(X, y)\n",
    "\n",
    "y_pred = cross_val_predict(model, X, y, cv=5)\n",
    "\n",
    "accuracy = accuracy_score(y, y_pred)\n",
    "report = classification_report(y, y_pred)\n",
    "\n",
    "print(f\"Accuracy: {accuracy:.4f}\")\n",
    "print(\"Classification Report:\")\n",
    "print(report)"
   ],
   "id": "931ef65457490c3d",
   "outputs": [
    {
     "name": "stdout",
     "output_type": "stream",
     "text": [
      "Accuracy: 0.7489\n",
      "Classification Report:\n",
      "              precision    recall  f1-score   support\n",
      "\n",
      "       False       0.75      0.75      0.75       902\n",
      "        True       0.75      0.75      0.75       902\n",
      "\n",
      "    accuracy                           0.75      1804\n",
      "   macro avg       0.75      0.75      0.75      1804\n",
      "weighted avg       0.75      0.75      0.75      1804\n",
      "\n"
     ]
    }
   ],
   "execution_count": 9
  },
  {
   "metadata": {},
   "cell_type": "markdown",
   "source": "Now, we will test our model on testing data we sampled before.",
   "id": "2e69c65a2611126f"
  },
  {
   "metadata": {
    "ExecuteTime": {
     "end_time": "2024-12-20T10:56:59.611048Z",
     "start_time": "2024-12-20T10:56:59.574119Z"
    }
   },
   "cell_type": "code",
   "source": [
    "X_test = test_df.drop(columns=['id', 'description', 'C2A'])\n",
    "y_test = test_df['C2A']\n",
    "\n",
    "y_test_pred = model.predict(X_test)\n",
    "\n",
    "test_accuracy = accuracy_score(y_test, y_test_pred)\n",
    "test_report = classification_report(y_test, y_test_pred)\n",
    "\n",
    "print(f\"Test Accuracy: {test_accuracy:.4f}\")\n",
    "print(\"Test Classification Report:\")\n",
    "print(test_report)\n"
   ],
   "id": "7f17fe59830ffad9",
   "outputs": [
    {
     "name": "stdout",
     "output_type": "stream",
     "text": [
      "Test Accuracy: 0.8300\n",
      "Test Classification Report:\n",
      "              precision    recall  f1-score   support\n",
      "\n",
      "       False       0.85      0.80      0.82        50\n",
      "        True       0.81      0.86      0.83        50\n",
      "\n",
      "    accuracy                           0.83       100\n",
      "   macro avg       0.83      0.83      0.83       100\n",
      "weighted avg       0.83      0.83      0.83       100\n",
      "\n"
     ]
    }
   ],
   "execution_count": 10
  },
  {
   "metadata": {},
   "cell_type": "code",
   "outputs": [],
   "execution_count": null,
   "source": "",
   "id": "8613ec9a433d8117"
  }
 ],
 "metadata": {
  "kernelspec": {
   "display_name": "Python 3",
   "language": "python",
   "name": "python3"
  },
  "language_info": {
   "codemirror_mode": {
    "name": "ipython",
    "version": 2
   },
   "file_extension": ".py",
   "mimetype": "text/x-python",
   "name": "python",
   "nbconvert_exporter": "python",
   "pygments_lexer": "ipython2",
   "version": "2.7.6"
  }
 },
 "nbformat": 4,
 "nbformat_minor": 5
}
